{
 "cells": [
  {
   "cell_type": "code",
   "execution_count": 2,
   "metadata": {
    "collapsed": true
   },
   "outputs": [],
   "source": []
  },
  {
   "cell_type": "code",
   "execution_count": 4,
   "outputs": [
    {
     "ename": "FileNotFoundError",
     "evalue": "[Errno 2] No such file or directory: './data/train'",
     "output_type": "error",
     "traceback": [
      "\u001B[0;31m---------------------------------------------------------------------------\u001B[0m",
      "\u001B[0;31mFileNotFoundError\u001B[0m                         Traceback (most recent call last)",
      "\u001B[0;32m<ipython-input-4-6cceac998973>\u001B[0m in \u001B[0;36m<module>\u001B[0;34m\u001B[0m\n\u001B[1;32m     28\u001B[0m                     , 'Olivia Wilde', 'Zac Efron', 'Miley Cyrus','Jim Parsons')\n\u001B[1;32m     29\u001B[0m     \u001B[0;32mreturn\u001B[0m \u001B[0mtrainloader\u001B[0m\u001B[0;34m,\u001B[0m \u001B[0mtestloader\u001B[0m\u001B[0;34m,\u001B[0m \u001B[0mclasses\u001B[0m\u001B[0;34m\u001B[0m\u001B[0;34m\u001B[0m\u001B[0m\n\u001B[0;32m---> 30\u001B[0;31m \u001B[0mtrainloader\u001B[0m\u001B[0;34m,\u001B[0m \u001B[0mtestloader\u001B[0m\u001B[0;34m,\u001B[0m \u001B[0mclasses\u001B[0m \u001B[0;34m=\u001B[0m \u001B[0mprepare_data\u001B[0m\u001B[0;34m(\u001B[0m\u001B[0;36m1\u001B[0m\u001B[0;34m)\u001B[0m\u001B[0;34m\u001B[0m\u001B[0;34m\u001B[0m\u001B[0m\n\u001B[0m\u001B[1;32m     31\u001B[0m \u001B[0;31m#\u001B[0m\u001B[0;34m\u001B[0m\u001B[0;34m\u001B[0m\u001B[0;34m\u001B[0m\u001B[0m\n\u001B[1;32m     32\u001B[0m \u001B[0mprint\u001B[0m\u001B[0;34m(\u001B[0m\u001B[0;34m\"train size: \"\u001B[0m \u001B[0;34m+\u001B[0m \u001B[0mstr\u001B[0m\u001B[0;34m(\u001B[0m\u001B[0mlen\u001B[0m\u001B[0;34m(\u001B[0m\u001B[0mtrainloader\u001B[0m\u001B[0;34m)\u001B[0m\u001B[0;34m)\u001B[0m\u001B[0;34m)\u001B[0m\u001B[0;34m\u001B[0m\u001B[0;34m\u001B[0m\u001B[0m\n",
      "\u001B[0;32m<ipython-input-4-6cceac998973>\u001B[0m in \u001B[0;36mprepare_data\u001B[0;34m(batch_size)\u001B[0m\n\u001B[1;32m      8\u001B[0m     \u001B[0mroot_dir\u001B[0m \u001B[0;34m=\u001B[0m \u001B[0;34m\"./data/train\"\u001B[0m\u001B[0;34m;\u001B[0m\u001B[0;34m\u001B[0m\u001B[0;34m\u001B[0m\u001B[0m\n\u001B[1;32m      9\u001B[0m     train_set = datasets.ImageFolder(root = root_dir,\n\u001B[0;32m---> 10\u001B[0;31m                 transform = transforms.ToTensor())\n\u001B[0m\u001B[1;32m     11\u001B[0m \u001B[0;34m\u001B[0m\u001B[0m\n\u001B[1;32m     12\u001B[0m     \u001B[0mtrainloader\u001B[0m \u001B[0;34m=\u001B[0m \u001B[0mdata\u001B[0m\u001B[0;34m.\u001B[0m\u001B[0mDataLoader\u001B[0m\u001B[0;34m(\u001B[0m\u001B[0mtrain_set\u001B[0m\u001B[0;34m,\u001B[0m \u001B[0mbatch_size\u001B[0m \u001B[0;34m=\u001B[0m \u001B[0mbatch_size\u001B[0m\u001B[0;34m,\u001B[0m \u001B[0mshuffle\u001B[0m \u001B[0;34m=\u001B[0m \u001B[0;32mTrue\u001B[0m\u001B[0;34m)\u001B[0m\u001B[0;34m\u001B[0m\u001B[0;34m\u001B[0m\u001B[0m\n",
      "\u001B[0;32m~/anaconda3/envs/GSN/lib/python3.7/site-packages/torchvision/datasets/folder.py\u001B[0m in \u001B[0;36m__init__\u001B[0;34m(self, root, transform, target_transform, loader, is_valid_file)\u001B[0m\n\u001B[1;32m    207\u001B[0m                                           \u001B[0mtransform\u001B[0m\u001B[0;34m=\u001B[0m\u001B[0mtransform\u001B[0m\u001B[0;34m,\u001B[0m\u001B[0;34m\u001B[0m\u001B[0;34m\u001B[0m\u001B[0m\n\u001B[1;32m    208\u001B[0m                                           \u001B[0mtarget_transform\u001B[0m\u001B[0;34m=\u001B[0m\u001B[0mtarget_transform\u001B[0m\u001B[0;34m,\u001B[0m\u001B[0;34m\u001B[0m\u001B[0;34m\u001B[0m\u001B[0m\n\u001B[0;32m--> 209\u001B[0;31m                                           is_valid_file=is_valid_file)\n\u001B[0m\u001B[1;32m    210\u001B[0m         \u001B[0mself\u001B[0m\u001B[0;34m.\u001B[0m\u001B[0mimgs\u001B[0m \u001B[0;34m=\u001B[0m \u001B[0mself\u001B[0m\u001B[0;34m.\u001B[0m\u001B[0msamples\u001B[0m\u001B[0;34m\u001B[0m\u001B[0;34m\u001B[0m\u001B[0m\n",
      "\u001B[0;32m~/anaconda3/envs/GSN/lib/python3.7/site-packages/torchvision/datasets/folder.py\u001B[0m in \u001B[0;36m__init__\u001B[0;34m(self, root, loader, extensions, transform, target_transform, is_valid_file)\u001B[0m\n\u001B[1;32m     91\u001B[0m         super(DatasetFolder, self).__init__(root, transform=transform,\n\u001B[1;32m     92\u001B[0m                                             target_transform=target_transform)\n\u001B[0;32m---> 93\u001B[0;31m         \u001B[0mclasses\u001B[0m\u001B[0;34m,\u001B[0m \u001B[0mclass_to_idx\u001B[0m \u001B[0;34m=\u001B[0m \u001B[0mself\u001B[0m\u001B[0;34m.\u001B[0m\u001B[0m_find_classes\u001B[0m\u001B[0;34m(\u001B[0m\u001B[0mself\u001B[0m\u001B[0;34m.\u001B[0m\u001B[0mroot\u001B[0m\u001B[0;34m)\u001B[0m\u001B[0;34m\u001B[0m\u001B[0;34m\u001B[0m\u001B[0m\n\u001B[0m\u001B[1;32m     94\u001B[0m         \u001B[0msamples\u001B[0m \u001B[0;34m=\u001B[0m \u001B[0mmake_dataset\u001B[0m\u001B[0;34m(\u001B[0m\u001B[0mself\u001B[0m\u001B[0;34m.\u001B[0m\u001B[0mroot\u001B[0m\u001B[0;34m,\u001B[0m \u001B[0mclass_to_idx\u001B[0m\u001B[0;34m,\u001B[0m \u001B[0mextensions\u001B[0m\u001B[0;34m,\u001B[0m \u001B[0mis_valid_file\u001B[0m\u001B[0;34m)\u001B[0m\u001B[0;34m\u001B[0m\u001B[0;34m\u001B[0m\u001B[0m\n\u001B[1;32m     95\u001B[0m         \u001B[0;32mif\u001B[0m \u001B[0mlen\u001B[0m\u001B[0;34m(\u001B[0m\u001B[0msamples\u001B[0m\u001B[0;34m)\u001B[0m \u001B[0;34m==\u001B[0m \u001B[0;36m0\u001B[0m\u001B[0;34m:\u001B[0m\u001B[0;34m\u001B[0m\u001B[0;34m\u001B[0m\u001B[0m\n",
      "\u001B[0;32m~/anaconda3/envs/GSN/lib/python3.7/site-packages/torchvision/datasets/folder.py\u001B[0m in \u001B[0;36m_find_classes\u001B[0;34m(self, dir)\u001B[0m\n\u001B[1;32m    120\u001B[0m         \u001B[0;32mif\u001B[0m \u001B[0msys\u001B[0m\u001B[0;34m.\u001B[0m\u001B[0mversion_info\u001B[0m \u001B[0;34m>=\u001B[0m \u001B[0;34m(\u001B[0m\u001B[0;36m3\u001B[0m\u001B[0;34m,\u001B[0m \u001B[0;36m5\u001B[0m\u001B[0;34m)\u001B[0m\u001B[0;34m:\u001B[0m\u001B[0;34m\u001B[0m\u001B[0;34m\u001B[0m\u001B[0m\n\u001B[1;32m    121\u001B[0m             \u001B[0;31m# Faster and available in Python 3.5 and above\u001B[0m\u001B[0;34m\u001B[0m\u001B[0;34m\u001B[0m\u001B[0;34m\u001B[0m\u001B[0m\n\u001B[0;32m--> 122\u001B[0;31m             \u001B[0mclasses\u001B[0m \u001B[0;34m=\u001B[0m \u001B[0;34m[\u001B[0m\u001B[0md\u001B[0m\u001B[0;34m.\u001B[0m\u001B[0mname\u001B[0m \u001B[0;32mfor\u001B[0m \u001B[0md\u001B[0m \u001B[0;32min\u001B[0m \u001B[0mos\u001B[0m\u001B[0;34m.\u001B[0m\u001B[0mscandir\u001B[0m\u001B[0;34m(\u001B[0m\u001B[0mdir\u001B[0m\u001B[0;34m)\u001B[0m \u001B[0;32mif\u001B[0m \u001B[0md\u001B[0m\u001B[0;34m.\u001B[0m\u001B[0mis_dir\u001B[0m\u001B[0;34m(\u001B[0m\u001B[0;34m)\u001B[0m\u001B[0;34m]\u001B[0m\u001B[0;34m\u001B[0m\u001B[0;34m\u001B[0m\u001B[0m\n\u001B[0m\u001B[1;32m    123\u001B[0m         \u001B[0;32melse\u001B[0m\u001B[0;34m:\u001B[0m\u001B[0;34m\u001B[0m\u001B[0;34m\u001B[0m\u001B[0m\n\u001B[1;32m    124\u001B[0m             \u001B[0mclasses\u001B[0m \u001B[0;34m=\u001B[0m \u001B[0;34m[\u001B[0m\u001B[0md\u001B[0m \u001B[0;32mfor\u001B[0m \u001B[0md\u001B[0m \u001B[0;32min\u001B[0m \u001B[0mos\u001B[0m\u001B[0;34m.\u001B[0m\u001B[0mlistdir\u001B[0m\u001B[0;34m(\u001B[0m\u001B[0mdir\u001B[0m\u001B[0;34m)\u001B[0m \u001B[0;32mif\u001B[0m \u001B[0mos\u001B[0m\u001B[0;34m.\u001B[0m\u001B[0mpath\u001B[0m\u001B[0;34m.\u001B[0m\u001B[0misdir\u001B[0m\u001B[0;34m(\u001B[0m\u001B[0mos\u001B[0m\u001B[0;34m.\u001B[0m\u001B[0mpath\u001B[0m\u001B[0;34m.\u001B[0m\u001B[0mjoin\u001B[0m\u001B[0;34m(\u001B[0m\u001B[0mdir\u001B[0m\u001B[0;34m,\u001B[0m \u001B[0md\u001B[0m\u001B[0;34m)\u001B[0m\u001B[0;34m)\u001B[0m\u001B[0;34m]\u001B[0m\u001B[0;34m\u001B[0m\u001B[0;34m\u001B[0m\u001B[0m\n",
      "\u001B[0;31mFileNotFoundError\u001B[0m: [Errno 2] No such file or directory: './data/train'"
     ]
    }
   ],
   "source": [
    "import torch\n",
    "import torchvision\n",
    "from torchvision import datasets, transforms\n",
    "from torch.utils import data\n",
    "def prepare_data(batch_size):\n",
    "    torch.set_default_tensor_type(torch.cuda.FloatTensor)\n",
    "\n",
    "    root_dir = \"./data/train\";\n",
    "    train_set = datasets.ImageFolder(root = root_dir,\n",
    "                transform = transforms.ToTensor())\n",
    "\n",
    "    trainloader = data.DataLoader(train_set, batch_size = batch_size, shuffle = True)\n",
    "\n",
    "    root_dir = \"./data/test\";\n",
    "\n",
    "    train_set = datasets.ImageFolder(root = root_dir,\n",
    "                transform = transforms.ToTensor())\n",
    "\n",
    "    testloader = data.DataLoader(train_set, batch_size = batch_size, shuffle = True)\n",
    "    classes = ('Natalie Portman', 'Julia Roberts', 'Neil Patrick Harris'\n",
    "                    , 'Keifer Sutherland', 'Ben Stiller', 'Anne Hathaway'\n",
    "                    , 'David Boreanaz', 'Jamie Foxx', 'Sofia Vergara'\n",
    "                    , 'Elizabeth Banks', 'Jensen Ackles', 'Amy Adams'\n",
    "                    , 'Kristen Bell', 'Bradley Cooper', 'Emily Deschanel'\n",
    "                    , 'Zooey Deschanel', 'Jon Hamm', 'Scarlett Johansson'\n",
    "                    , 'Blake Lively', 'Eva Longoria', 'Amy Poehler'\n",
    "                    , 'Kristen Stewart', 'Kerry Washington', 'Leighton Meester'\n",
    "                    , 'Olivia Wilde', 'Zac Efron', 'Miley Cyrus','Jim Parsons')\n",
    "    return trainloader, testloader, classes\n",
    "trainloader, testloader, classes = prepare_data(1)\n",
    "#\n",
    "print(\"train size: \" + str(len(trainloader)))\n",
    "#\n",
    "print(\"test size: \" + str(len(testloader)))"
   ],
   "metadata": {
    "collapsed": false,
    "pycharm": {
     "name": "#%%\n"
    }
   }
  },
  {
   "cell_type": "code",
   "execution_count": null,
   "outputs": [],
   "source": [
    "trainloader, testloader, classes = prepare_data(1)\n",
    "\n",
    "import matplotlib.pyplot as plt\n",
    "import numpy as np\n",
    "\n",
    "\n",
    "# functions to show an image\n",
    "\n",
    "\n",
    "def imshow(img):\n",
    "    img = img / 2 + 0.5     # unnormalize\n",
    "    npimg = img.numpy()\n",
    "    plt.imshow(np.transpose(npimg, (1, 2, 0)))\n",
    "    plt.show()\n",
    "\n",
    "\n",
    "# get some random training images\n",
    "dataiter = iter(trainloader)\n",
    "images, labels = dataiter.next()\n",
    "print(images.shape)\n",
    "\n",
    "# show images\n",
    "imshow(torchvision.utils.make_grid(images))\n",
    "# print labels\n",
    "print(' '.join('%5s' % classes[labels[j]] for j in range(1)))"
   ],
   "metadata": {
    "collapsed": false,
    "pycharm": {
     "name": "#%%\n"
    }
   }
  },
  {
   "cell_type": "code",
   "execution_count": null,
   "outputs": [],
   "source": [
    "import torch.nn as nn\n",
    "import torch.nn.functional as F\n",
    "\n",
    "def prepare_and_init_Net(number_layers_1, number_layers_2, number_layers_3):\n",
    "    class Net(nn.Module):\n",
    "        def __init__(self, device):\n",
    "            super(Net, self).__init__()\n",
    "            self.conv1 = nn.Conv2d(3, 6, 11)\n",
    "            self.conv2 = nn.Conv2d(6, 12, 9)\n",
    "            self.conv3 = nn.Conv2d(12, 24, 7)\n",
    "            self.conv4 = nn.Conv2d(24, 30, 6)\n",
    "            self.pool2 = nn.MaxPool2d(2, 2)\n",
    "            self.conv2_bn_30 = nn.BatchNorm2d(30)\n",
    "            self.conv2_bn_24 = nn.BatchNorm2d(24)\n",
    "            self.conv2_bn_12 = nn.BatchNorm2d(12)\n",
    "            self.conv2_bn_6 = nn.BatchNorm2d(6)\n",
    "            # self.pool3 = nn.MaxPool2d(3,3)\n",
    "            self.fc1 = nn.Linear(30 * 10 * 10, 240)       #coś tu się dzieje, nie jestem pewnien co\n",
    "            self.fc2 = nn.Linear(240, 120)\n",
    "            self.fc3 = nn.Linear(120, 28)\n",
    "\n",
    "        def forward(self, x):\n",
    "            # print(x.shape)\n",
    "            x = self.pool2(F.relu(self.conv2_bn_6(self.conv1(x))))\n",
    "            # print(x.shape)\n",
    "            x = self.pool2(F.relu(self.conv2_bn_12(self.conv2(x))))\n",
    "\n",
    "            x = self.pool2(F.relu(self.conv2_bn_24(self.conv3(x))))\n",
    "            x = self.pool2(F.relu(self.conv2_bn_30(self.conv4(x))))\n",
    "            # print(x.shape)\n",
    "            # print(\"to tu?\")\n",
    "            x = x.view(-1, 30 * 10 * 10)\n",
    "            # print(x.shape)\n",
    "            x = F.relu(self.fc1(x))\n",
    "            # print(x.shape)\n",
    "            x = F.relu(self.fc2(x))\n",
    "            # print(x.shape)\n",
    "            x = self.fc3(x)\n",
    "            # print(x.shape)\n",
    "            return x\n",
    "\n",
    "\n",
    "    net = Net(device='cuda:0')\n",
    "    return net\n",
    "# print(net.parameters())"
   ],
   "metadata": {
    "collapsed": false,
    "pycharm": {
     "name": "#%%\n"
    }
   }
  },
  {
   "cell_type": "code",
   "execution_count": null,
   "outputs": [],
   "source": [
    "import torch.optim as optim\n",
    "\n",
    "net = prepare_and_init_Net(6, 12, 24)\n",
    "\n",
    "def crit_and_opt(learning_rate):\n",
    "    criterion = nn.CrossEntropyLoss()\n",
    "    optimizer = optim.SGD(net.parameters(), lr=learning_rate, momentum=0.9)\n",
    "    return criterion, optimizer"
   ],
   "metadata": {
    "collapsed": false,
    "pycharm": {
     "name": "#%%\n"
    }
   }
  },
  {
   "cell_type": "code",
   "execution_count": null,
   "outputs": [],
   "source": [
    "def cuda_init():\n",
    "    device = torch.device(\"cuda:0\" if torch.cuda.is_available() else \"cpu\")\n",
    "    return device\n",
    "# Assuming that we are on a CUDA machine, this should print a CUDA device:\n"
   ],
   "metadata": {
    "collapsed": false,
    "pycharm": {
     "name": "#%%\n"
    }
   }
  },
  {
   "cell_type": "code",
   "execution_count": null,
   "outputs": [],
   "source": [
    "torch.set_default_tensor_type(torch.cuda.FloatTensor)\n",
    "def accuracy(device, testloader):\n",
    "    correct = 0\n",
    "    total = 0\n",
    "    with torch.no_grad():\n",
    "        for data in testloader:\n",
    "            images, labels = data[0].to(device), data[1].to(device)\n",
    "            outputs = net(images)\n",
    "            _, predicted = torch.max(outputs.data, 1)\n",
    "            total += labels.size(0)\n",
    "            correct += (predicted == labels).sum().item()\n",
    "        print('Accuracy of the network on the 2772 test images: %f %%' % (\n",
    "        100 * correct / total))\n",
    "        return 100 * correct / total\n"
   ],
   "metadata": {
    "collapsed": false,
    "pycharm": {
     "name": "#%%\n"
    }
   }
  },
  {
   "cell_type": "code",
   "execution_count": null,
   "outputs": [],
   "source": [
    "def learn(device, trainloader, testloader, optimizer, criterion):\n",
    "    running_loss_for_optimizer = 0.0\n",
    "    running_loss = 0.0\n",
    "    loss_for_optimizer = 1.0\n",
    "    learning_rate = 0.001\n",
    "    counter=0\n",
    "    for epoch in range(15):  # loop over the dataset multiple times\n",
    "\n",
    "\n",
    "        for i, data in enumerate(trainloader, 0):\n",
    "            # get the inputs; data is a list of [inputs, labels]\n",
    "            # inputs, labels = data\n",
    "            inputs, labels = data[0].to(device), data[1].to(device)\n",
    "            # print(inputs.shape)\n",
    "\n",
    "            # zero the parameter gradients\n",
    "            optimizer.zero_grad()\n",
    "\n",
    "            # forward + backward + optimize\n",
    "            outputs = net(inputs)\n",
    "            # print(outputs)\n",
    "            loss = criterion(outputs, labels)\n",
    "            loss.backward()\n",
    "            optimizer.step()\n",
    "\n",
    "            # print statistics\n",
    "            running_loss += loss.item()\n",
    "            running_loss_for_optimizer += loss.item()\n",
    "            # if i % 4000 == 3999:    # print every 2000 mini-batches\n",
    "            #     print('[%d, %5d] loss: %.3f' %\n",
    "            #           (epoch + 1, i + 1, running_loss / 4000))\n",
    "            #     running_loss = 0.0\n",
    "        print(\"running loss at end of epoch: \", running_loss_for_optimizer/len(trainloader))\n",
    "        # if(accuracy(device, testloader) > 75):\n",
    "        #     break\n",
    "        accuracy(device, testloader)\n",
    "        if(running_loss_for_optimizer/len(trainloader) < loss_for_optimizer):\n",
    "            learning_rate /= 2\n",
    "            loss_for_optimizer /= 2\n",
    "            criterion, optimizer = crit_and_opt(learning_rate)\n",
    "            print( \"devaluating optimizer, current value: \", loss_for_optimizer)\n",
    "        running_loss_for_optimizer = 0.0\n",
    "        running_loss = 0.0\n",
    "\n",
    "\n",
    "    print('Finished Training')"
   ],
   "metadata": {
    "collapsed": false,
    "pycharm": {
     "name": "#%%\n"
    }
   }
  },
  {
   "cell_type": "code",
   "execution_count": null,
   "outputs": [],
   "source": [
    "dataiter = iter(testloader)\n",
    "images, labels = dataiter.next()\n",
    "\n",
    "# print images\n",
    "imshow(torchvision.utils.make_grid(images))\n",
    "print('GroundTruth: ', ' '.join('%5s' % classes[labels[j]] for j in range(4)))"
   ],
   "metadata": {
    "collapsed": false,
    "pycharm": {
     "name": "#%%\n"
    }
   }
  },
  {
   "cell_type": "code",
   "execution_count": null,
   "outputs": [],
   "source": [
    "batch_size = 1\n",
    "while(batch_size < 513):\n",
    "    print(\"New batch size testing, batch size: \", batch_size)\n",
    "    trainloader, testloader, classes = prepare_data(batch_size)\n",
    "    device = cuda_init()\n",
    "    net = prepare_and_init_Net(6, 12, 24)\n",
    "    criterion, optimizer = crit_and_opt(0.001)\n",
    "    learn(device, trainloader, testloader, optimizer, criterion)\n",
    "    batch_size *= 2\n"
   ],
   "metadata": {
    "collapsed": false,
    "pycharm": {
     "name": "#%%\n"
    }
   }
  }
 ],
 "metadata": {
  "kernelspec": {
   "display_name": "Python 3",
   "language": "python",
   "name": "python3"
  },
  "language_info": {
   "codemirror_mode": {
    "name": "ipython",
    "version": 2
   },
   "file_extension": ".py",
   "mimetype": "text/x-python",
   "name": "python",
   "nbconvert_exporter": "python",
   "pygments_lexer": "ipython2",
   "version": "2.7.6"
  }
 },
 "nbformat": 4,
 "nbformat_minor": 0
}